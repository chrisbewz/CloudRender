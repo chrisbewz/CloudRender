{
  "nbformat": 4,
  "nbformat_minor": 0,
  "metadata": {
    "accelerator": "GPU",
    "colab": {
      "name": "Cópia de BlenderCloud.ipynb",
      "provenance": [],
      "collapsed_sections": []
    },
    "kernelspec": {
      "display_name": "Python 3",
      "name": "python3"
    }
  },
  "cells": [
    {
      "cell_type": "markdown",
      "metadata": {
        "id": "54u80adjU8Tx"
      },
      "source": [
        "#Script Modificado Para Facilidade no Uso "
      ]
    },
    {
      "cell_type": "code",
      "metadata": {
        "id": "GPJ9fmoB6PWM"
      },
      "source": [
        "#@title Selecione a Versão do Blender { display-mode: \"form\" }\n",
        "Versão = 'Blender 2.90' #@param [\"Blender 2.79b\", \"Blender 2.80\", \"Blender 2.81\", \"Blender 2.82a\", \"Blender 2.83.0\", \"Blender 2.83.3\", \"Blender 2.90alpha (expiremental)\", \"Blender 2.90\", \"Blender 2.91\"]\n",
        "\n",
        "def path_leaf(path):\n",
        "  import ntpath\n",
        "  head, tail = ntpath.split(path)\n",
        "  return tail or ntpath.basename(head)\n",
        "\n",
        "dl_link = {\n",
        "    \"Blender 2.79b\": \"https://download.blender.org/release/Blender2.79/blender-2.79b-linux-glibc219-x86_64.tar.bz2\",\n",
        "    \"Blender 2.80\": \"https://download.blender.org/release/Blender2.80/blender-2.80-linux-glibc217-x86_64.tar.bz2\",\n",
        "    \"Blender 2.81\": \"https://download.blender.org/release/Blender2.81/blender-2.81-linux-glibc217-x86_64.tar.bz2\",\n",
        "    \"Blender 2.82a\": \"https://download.blender.org/release/Blender2.82/blender-2.82a-linux64.tar.xz\",\n",
        "    \"Blender 2.83.0\": \"https://download.blender.org/release/Blender2.83/blender-2.83.0-linux64.tar.xz\",\n",
        "    \"Blender 2.83.3\": \"https://download.blender.org/release/Blender2.83/blender-2.83.3-linux64.tar.xz\",\n",
        "    \"Blender 2.90alpha (expiremental)\": \"https://blender.community/5edccfe69c122126f183e2ad/download/5ef635439c12214ca244be6b\",\n",
        "    \"Blender 2.90\" : \"https://download.blender.org/release/Blender2.90/blender-2.90.0-linux64.tar.xz\",\n",
        "    \"Blender 2.91\" : \"https://download.blender.org/release/Blender2.91/blender-2.91.0-linux64.tar.xz\"\n",
        "}\n",
        "\n",
        "\n",
        "dl = dl_link[Versão]\n",
        "filename = path_leaf(dl)\n",
        "\n",
        "if (Versão == \"Blender 2.90alpha (expiremental)\"):\n",
        "  !wget $dl\n",
        "  !sudo apt-get install p7zip-full\n",
        "  !7z x $filename\n",
        "  !mv blender_290bM_e935447a5370-20200625-1857 blender\n",
        "\n",
        "\n",
        "\n",
        "else:\n",
        "  !wget -nc $dl\n",
        "  !mkdir ./blender && tar xf $filename -C ./blender --strip-components 1\n",
        "\n",
        "\n",
        "\n",
        "!apt install libboost-all-dev\n",
        "!apt install libgl1-mesa-dev\n",
        "!apt install libglu1-mesa libsm-dev\n",
        "\n",
        "\n",
        "data = \"import re\\n\"+\\\n",
        "    \"import bpy\\n\"+\\\n",
        "    \"scene = bpy.context.scene\\n\"+\\\n",
        "    \"scene.cycles.device = 'GPU'\\n\"+\\\n",
        "    \"prefs = bpy.context.preferences\\n\"+\\\n",
        "    \"prefs.addons['cycles'].preferences.get_devices()\\n\"+\\\n",
        "    \"cprefs = prefs.addons['cycles'].preferences\\n\"+\\\n",
        "    \"print(cprefs)\\n\"+\\\n",
        "    \"# Attempt to set GPU device types if available\\n\"+\\\n",
        "    \"for compute_device_type in ('CUDA', 'OPENCL', 'NONE'):\\n\"+\\\n",
        "    \"    try:\\n\"+\\\n",
        "    \"        cprefs.compute_device_type = compute_device_type\\n\"+\\\n",
        "    \"        print('Device found',compute_device_type)\\n\"+\\\n",
        "    \"        break\\n\"+\\\n",
        "    \"    except TypeError:\\n\"+\\\n",
        "    \"        pass\\n\"+\\\n",
        "    \"# Enable all CPU and GPU devices\\n\"+\\\n",
        "    \"for device in cprefs.devices:\\n\"+\\\n",
        "    \"    if not re.match('intel', device.name, re.I):\\n\"+\\\n",
        "    \"        print('Activating',device)\\n\"+\\\n",
        "    \"        device.use = True\\n\"\n",
        "with open('setgpu.py', 'w') as f:\n",
        "    f.write(data)"
      ],
      "execution_count": null,
      "outputs": []
    },
    {
      "cell_type": "code",
      "metadata": {
        "id": "NUjjUqX6fOM_"
      },
      "source": [
        "from google.colab import drive\n",
        "drive.mount('/content/drive')"
      ],
      "execution_count": null,
      "outputs": []
    },
    {
      "cell_type": "markdown",
      "metadata": {
        "id": "paVg85JFVMbM"
      },
      "source": [
        "Conecte o seu Google Drive"
      ]
    },
    {
      "cell_type": "code",
      "metadata": {
        "id": "QRzNmiHN8Xr0"
      },
      "source": [
        "from google.colab import drive\n",
        "drive.mount('/gdrive')"
      ],
      "execution_count": null,
      "outputs": []
    },
    {
      "cell_type": "markdown",
      "metadata": {
        "id": "RPiQkHVbCDu2"
      },
      "source": [
        "(Render)For one frame / Somente um Frame"
      ]
    },
    {
      "cell_type": "code",
      "metadata": {
        "colab": {
          "background_save": true
        },
        "id": "Fpk2w3yM8XqQ"
      },
      "source": [
        "!sudo ./blender/blender -P setgpu.py -b 'diretório do arquivo .blend a ser renderizado no drive' -o '/gdrive/MyDrive/Blender Renders' -f 1"
      ],
      "execution_count": null,
      "outputs": []
    },
    {
      "cell_type": "markdown",
      "metadata": {
        "id": "PP4DzhYICKsk"
      },
      "source": [
        "(Render)For all frames / Múltiplos Frames"
      ]
    },
    {
      "cell_type": "code",
      "metadata": {
        "id": "VFVx8omJCGBN"
      },
      "source": [
        "!sudo ./blender/blender -P setgpu.py -b 'diretório do arquivo .blend a ser renderizado no drive' -o 'diretório para o arquivo renderizado no drive' -s 1001 -e 1002 -a"
      ],
      "execution_count": null,
      "outputs": []
    },
    {
      "cell_type": "markdown",
      "metadata": {
        "id": "ciLgSv7j1rHH"
      },
      "source": [
        "OBS.: O diretório do arquivo no drive pode ser acessado através dos passos a seguir:\n",
        "\n",
        " - Conecte seu Google Drive;\n",
        " - Na barra lateral acesse a pasta 'gdrive';\n",
        " - Procure pela pasta onde foi realizado o upload do arquivo para ser renderizado;\n",
        " - Com o botão direito do mouse, selecione a opção ' Copiar Caminho';\n",
        " - Cole o endereço do diretório copiado em uma das opções de render;\n",
        "\n",
        "\n"
      ]
    },
    {
      "cell_type": "markdown",
      "metadata": {
        "id": "kUYC8b-L3AGZ"
      },
      "source": [
        "OBS.2.: As sessões de renderização são limitadas a 5, tendo direito ao uso de 3 GPUs e 2 TPUs ao total.\n",
        "\n",
        "- Após o esgotamento das sessões em uma conta pode ser utilizada outra para ter direito a mais sessões gratuitas.\n",
        "- O tempo de inatividade aproximado é de cerca de 1 hora, após isso você será desconectado do colab porém o render continuará sendo realizado até o final em cloud e salvo onde foi especificado."
      ]
    },
    {
      "cell_type": "markdown",
      "metadata": {
        "id": "pK4St6Ba4D6j"
      },
      "source": [
        "Configurações para Render antes de realizar o Upload p/ Drive:\n",
        "\n",
        "- Tile Size : 256px * 256px\n",
        "- Render : GPU Compute\n",
        "- Engine : Cycles\n",
        "- Pack all into .blend\n",
        "\n",
        "EEVEE será adicionado futuramente nas linhas de código."
      ]
    },
    {
      "cell_type": "code",
      "metadata": {
        "id": "aY9FhG-lATSL"
      },
      "source": [
        ""
      ],
      "execution_count": null,
      "outputs": []
    }
  ]
}